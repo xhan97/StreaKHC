{
 "cells": [
  {
   "cell_type": "code",
   "execution_count": 17,
   "metadata": {},
   "outputs": [],
   "source": [
    "from scipy.spatial.distance import cdist\n",
    "from models.INode import INode\n",
    "from utils.dendrogram_purity import dendrogram_purity\n",
    "from utils.deltasep_utils import create_dataset\n",
    "from utils.add_nne import addNNE,aNNE_similarity\n",
    "from utils.Graphviz import Graphviz"
   ]
  },
  {
   "cell_type": "code",
   "execution_count": 2,
   "metadata": {},
   "outputs": [],
   "source": [
    "import numpy as np\n",
    "#from graphviz import Source"
   ]
  },
  {
   "cell_type": "code",
   "execution_count": 3,
   "metadata": {},
   "outputs": [],
   "source": [
    "def add_nne_data(dataset,n,psi,t):\n",
    "  \"\"\"Add ik value to dataset.\n",
    "  Args:\n",
    "    dataset - a list of points with which to build the tree.\n",
    "    n - the number of dataset to build aNNE metrix\n",
    "    psi - parameter of ik\n",
    "    t - paremeter of ik\n",
    "  Return:\n",
    "    dataset with ik value\n",
    "    \n",
    "  \"\"\"\n",
    "  met = [pt[0] for pt in dataset[:n]]\n",
    "  \n",
    "  x = cdist(met,met, 'euclidean') \n",
    "  oneHot,subIndexSet,aNNEMetrix = aNNE_similarity(x,psi,t)\n",
    "  for i, pt in enumerate(dataset[:n]):\n",
    "      pt.append(aNNEMetrix[i])\n",
    "      \n",
    "  return oneHot,subIndexSet,dataset\n",
    "  \n",
    "\n",
    ""
   ]
  },
  {
   "cell_type": "code",
   "execution_count": 11,
   "metadata": {},
   "outputs": [],
   "source": [
    "def create_trees_w_purity_check(n,psi,t,dataset):\n",
    "    \"\"\"Create trees over the same points.\n",
    "\n",
    "    Create n trees, online, over the same dataset. Return pointers to the\n",
    "    roots of all trees for evaluation.  The trees will be created via the insert\n",
    "    methods passed in.  After each insertion, verify that the dendrogram purity\n",
    "    is still 1.0 (perfect).\n",
    "\n",
    "    Args:\n",
    "        dataset - a list of points with which to build the tree.\n",
    "\n",
    "    Returns:\n",
    "        A list of pointers to the trees constructed via the insert methods\n",
    "        passed in.\n",
    "    \"\"\"\n",
    "    np.random.shuffle(dataset)\n",
    "    met = [pt[0] for pt in dataset[:n]]\n",
    "    \n",
    "    oneHot,subIndexSet,dataset = add_nne_data(dataset,n,psi,t)\n",
    "    root = INode(exact_dist_thres=10)\n",
    "    \n",
    "    for i, pt in enumerate(dataset):\n",
    "        if len(pt)==3:\n",
    "          ikv = addNNE(met,pt[0],oneHot,subIndexSet)\n",
    "          pt.append(ikv)\n",
    "        root = root.insert(pt, collapsibles=None, L= float('inf'))\n",
    "#         gv = Graphviz()\n",
    "#         tree = gv.graphviz_tree(root)\n",
    "#         src = Source(tree)\n",
    "#         src.render('treeResult\\\\'+'tree'+str(i)+'.gv', view=True,format='png')\n",
    "#        if i % 30 == 0:\n",
    "#            assert(dendrogram_purity(root) == 1.0)\n",
    "#            assert(root.point_counter == (i + 1))\n",
    "    return root"
   ]
  },
  {
   "cell_type": "code",
   "execution_count": 4,
   "metadata": {},
   "outputs": [
    {
     "output_type": "stream",
     "name": "stdout",
     "text": "TESTING DIMENSIONS == 5\n"
    }
   ],
   "source": [
    "dimensions = [5]\n",
    "size = 100\n",
    "num_clus = 6\n",
    "\n",
    "\n",
    "for dim in dimensions:\n",
    "    print(\"TESTING DIMENSIONS == %d\" % dim)\n",
    "    dataset = create_dataset(dim, size, num_clusters=num_clus)                                 "
   ]
  },
  {
   "cell_type": "code",
   "execution_count": 5,
   "metadata": {},
   "outputs": [
    {
     "output_type": "execute_result",
     "data": {
      "text/plain": "600"
     },
     "metadata": {},
     "execution_count": 5
    }
   ],
   "source": [
    "len(dataset)"
   ]
  },
  {
   "cell_type": "code",
   "execution_count": 6,
   "metadata": {},
   "outputs": [],
   "source": [
    "def load_data(filename):\n",
    "    with open(filename, 'r') as f:\n",
    "        for line in f:\n",
    "            splits = line.strip().split('\\t')\n",
    "            pid, l, vec = splits[0], splits[1], np.array([float(x)\n",
    "                                                          for x in splits[2:]])\n",
    "            yield ([vec, l, pid])"
   ]
  },
  {
   "cell_type": "code",
   "execution_count": 8,
   "metadata": {},
   "outputs": [],
   "source": [
    "n=30\n",
    "psi=6\n",
    "t = 200"
   ]
  },
  {
   "cell_type": "code",
   "execution_count": 13,
   "metadata": {},
   "outputs": [],
   "source": [
    "dataset = list(load_data(\"data/glass.tsv\"))"
   ]
  },
  {
   "cell_type": "code",
   "execution_count": 18,
   "metadata": {},
   "outputs": [
    {
     "output_type": "error",
     "ename": "TypingError",
     "evalue": "Failed in nopython mode pipeline (step: convert make_function into JIT functions)\n\u001b[1mCannot capture the non-constant value associated with variable 'disDict' in a function that will escape.\n\u001b[1m\nFile \"utils/add_nne.py\", line 84:\u001b[0m\n\u001b[1mdef addNNE(met,x,oneHot,subIndexSet):\n    <source elided>\n\n\u001b[1m    nn = [min(item, key=lambda x: disDict[x]) for item in subIndexSet]\n\u001b[0m    \u001b[1m^\u001b[0m\u001b[0m\n\u001b[0m\n\nThis error may have been caused by the following argument(s):\n- argument 2: \u001b[1mcannot determine Numba type of <class 'sklearn.preprocessing._encoders.OneHotEncoder'>\u001b[0m\n\nThis error may have been caused by the following argument(s):\n- argument 2: \u001b[1mcannot determine Numba type of <class 'sklearn.preprocessing._encoders.OneHotEncoder'>\u001b[0m\n\nThis error may have been caused by the following argument(s):\n- argument 2: \u001b[1mcannot determine Numba type of <class 'sklearn.preprocessing._encoders.OneHotEncoder'>\u001b[0m\n\nThis error may have been caused by the following argument(s):\n- argument 2: \u001b[1mcannot determine Numba type of <class 'sklearn.preprocessing._encoders.OneHotEncoder'>\u001b[0m\n",
     "traceback": [
      "\u001b[0;31m---------------------------------------------------------------------------\u001b[0m",
      "\u001b[0;31mTypingError\u001b[0m                               Traceback (most recent call last)",
      "\u001b[0;32m<ipython-input-18-865895ef9362>\u001b[0m in \u001b[0;36m<module>\u001b[0;34m\u001b[0m\n\u001b[0;32m----> 1\u001b[0;31m \u001b[0mroot\u001b[0m \u001b[0;34m=\u001b[0m \u001b[0mcreate_trees_w_purity_check\u001b[0m\u001b[0;34m(\u001b[0m\u001b[0mn\u001b[0m\u001b[0;34m,\u001b[0m\u001b[0mpsi\u001b[0m\u001b[0;34m,\u001b[0m\u001b[0mt\u001b[0m\u001b[0;34m,\u001b[0m\u001b[0mdataset\u001b[0m\u001b[0;34m)\u001b[0m\u001b[0;34m\u001b[0m\u001b[0;34m\u001b[0m\u001b[0m\n\u001b[0m\u001b[1;32m      2\u001b[0m \u001b[0mprint\u001b[0m\u001b[0;34m(\u001b[0m\u001b[0mdendrogram_purity\u001b[0m\u001b[0;34m(\u001b[0m\u001b[0mroot\u001b[0m\u001b[0;34m)\u001b[0m\u001b[0;34m)\u001b[0m\u001b[0;34m\u001b[0m\u001b[0;34m\u001b[0m\u001b[0m\n",
      "\u001b[0;32m<ipython-input-11-d33a260f7fe6>\u001b[0m in \u001b[0;36mcreate_trees_w_purity_check\u001b[0;34m(n, psi, t, dataset)\u001b[0m\n\u001b[1;32m     22\u001b[0m     \u001b[0;32mfor\u001b[0m \u001b[0mi\u001b[0m\u001b[0;34m,\u001b[0m \u001b[0mpt\u001b[0m \u001b[0;32min\u001b[0m \u001b[0menumerate\u001b[0m\u001b[0;34m(\u001b[0m\u001b[0mdataset\u001b[0m\u001b[0;34m)\u001b[0m\u001b[0;34m:\u001b[0m\u001b[0;34m\u001b[0m\u001b[0;34m\u001b[0m\u001b[0m\n\u001b[1;32m     23\u001b[0m         \u001b[0;32mif\u001b[0m \u001b[0mlen\u001b[0m\u001b[0;34m(\u001b[0m\u001b[0mpt\u001b[0m\u001b[0;34m)\u001b[0m\u001b[0;34m==\u001b[0m\u001b[0;36m3\u001b[0m\u001b[0;34m:\u001b[0m\u001b[0;34m\u001b[0m\u001b[0;34m\u001b[0m\u001b[0m\n\u001b[0;32m---> 24\u001b[0;31m           \u001b[0mikv\u001b[0m \u001b[0;34m=\u001b[0m \u001b[0maddNNE\u001b[0m\u001b[0;34m(\u001b[0m\u001b[0mmet\u001b[0m\u001b[0;34m,\u001b[0m\u001b[0mpt\u001b[0m\u001b[0;34m[\u001b[0m\u001b[0;36m0\u001b[0m\u001b[0;34m]\u001b[0m\u001b[0;34m,\u001b[0m\u001b[0moneHot\u001b[0m\u001b[0;34m,\u001b[0m\u001b[0msubIndexSet\u001b[0m\u001b[0;34m)\u001b[0m\u001b[0;34m\u001b[0m\u001b[0;34m\u001b[0m\u001b[0m\n\u001b[0m\u001b[1;32m     25\u001b[0m           \u001b[0mpt\u001b[0m\u001b[0;34m.\u001b[0m\u001b[0mappend\u001b[0m\u001b[0;34m(\u001b[0m\u001b[0mikv\u001b[0m\u001b[0;34m)\u001b[0m\u001b[0;34m\u001b[0m\u001b[0;34m\u001b[0m\u001b[0m\n\u001b[1;32m     26\u001b[0m         \u001b[0mroot\u001b[0m \u001b[0;34m=\u001b[0m \u001b[0mroot\u001b[0m\u001b[0;34m.\u001b[0m\u001b[0minsert\u001b[0m\u001b[0;34m(\u001b[0m\u001b[0mpt\u001b[0m\u001b[0;34m,\u001b[0m \u001b[0mcollapsibles\u001b[0m\u001b[0;34m=\u001b[0m\u001b[0;32mNone\u001b[0m\u001b[0;34m,\u001b[0m \u001b[0mL\u001b[0m\u001b[0;34m=\u001b[0m \u001b[0mfloat\u001b[0m\u001b[0;34m(\u001b[0m\u001b[0;34m'inf'\u001b[0m\u001b[0;34m)\u001b[0m\u001b[0;34m)\u001b[0m\u001b[0;34m\u001b[0m\u001b[0;34m\u001b[0m\u001b[0m\n",
      "\u001b[0;32m~/anaconda3/lib/python3.7/site-packages/numba/dispatcher.py\u001b[0m in \u001b[0;36m_compile_for_args\u001b[0;34m(self, *args, **kws)\u001b[0m\n\u001b[1;32m    399\u001b[0m                 \u001b[0me\u001b[0m\u001b[0;34m.\u001b[0m\u001b[0mpatch_message\u001b[0m\u001b[0;34m(\u001b[0m\u001b[0mmsg\u001b[0m\u001b[0;34m)\u001b[0m\u001b[0;34m\u001b[0m\u001b[0;34m\u001b[0m\u001b[0m\n\u001b[1;32m    400\u001b[0m \u001b[0;34m\u001b[0m\u001b[0m\n\u001b[0;32m--> 401\u001b[0;31m             \u001b[0merror_rewrite\u001b[0m\u001b[0;34m(\u001b[0m\u001b[0me\u001b[0m\u001b[0;34m,\u001b[0m \u001b[0;34m'typing'\u001b[0m\u001b[0;34m)\u001b[0m\u001b[0;34m\u001b[0m\u001b[0;34m\u001b[0m\u001b[0m\n\u001b[0m\u001b[1;32m    402\u001b[0m         \u001b[0;32mexcept\u001b[0m \u001b[0merrors\u001b[0m\u001b[0;34m.\u001b[0m\u001b[0mUnsupportedError\u001b[0m \u001b[0;32mas\u001b[0m \u001b[0me\u001b[0m\u001b[0;34m:\u001b[0m\u001b[0;34m\u001b[0m\u001b[0;34m\u001b[0m\u001b[0m\n\u001b[1;32m    403\u001b[0m             \u001b[0;31m# Something unsupported is present in the user code, add help info\u001b[0m\u001b[0;34m\u001b[0m\u001b[0;34m\u001b[0m\u001b[0;34m\u001b[0m\u001b[0m\n",
      "\u001b[0;32m~/anaconda3/lib/python3.7/site-packages/numba/dispatcher.py\u001b[0m in \u001b[0;36merror_rewrite\u001b[0;34m(e, issue_type)\u001b[0m\n\u001b[1;32m    342\u001b[0m                 \u001b[0;32mraise\u001b[0m \u001b[0me\u001b[0m\u001b[0;34m\u001b[0m\u001b[0;34m\u001b[0m\u001b[0m\n\u001b[1;32m    343\u001b[0m             \u001b[0;32melse\u001b[0m\u001b[0;34m:\u001b[0m\u001b[0;34m\u001b[0m\u001b[0;34m\u001b[0m\u001b[0m\n\u001b[0;32m--> 344\u001b[0;31m                 \u001b[0mreraise\u001b[0m\u001b[0;34m(\u001b[0m\u001b[0mtype\u001b[0m\u001b[0;34m(\u001b[0m\u001b[0me\u001b[0m\u001b[0;34m)\u001b[0m\u001b[0;34m,\u001b[0m \u001b[0me\u001b[0m\u001b[0;34m,\u001b[0m \u001b[0;32mNone\u001b[0m\u001b[0;34m)\u001b[0m\u001b[0;34m\u001b[0m\u001b[0;34m\u001b[0m\u001b[0m\n\u001b[0m\u001b[1;32m    345\u001b[0m \u001b[0;34m\u001b[0m\u001b[0m\n\u001b[1;32m    346\u001b[0m         \u001b[0margtypes\u001b[0m \u001b[0;34m=\u001b[0m \u001b[0;34m[\u001b[0m\u001b[0;34m]\u001b[0m\u001b[0;34m\u001b[0m\u001b[0;34m\u001b[0m\u001b[0m\n",
      "\u001b[0;32m~/anaconda3/lib/python3.7/site-packages/numba/six.py\u001b[0m in \u001b[0;36mreraise\u001b[0;34m(tp, value, tb)\u001b[0m\n\u001b[1;32m    666\u001b[0m             \u001b[0mvalue\u001b[0m \u001b[0;34m=\u001b[0m \u001b[0mtp\u001b[0m\u001b[0;34m(\u001b[0m\u001b[0;34m)\u001b[0m\u001b[0;34m\u001b[0m\u001b[0;34m\u001b[0m\u001b[0m\n\u001b[1;32m    667\u001b[0m         \u001b[0;32mif\u001b[0m \u001b[0mvalue\u001b[0m\u001b[0;34m.\u001b[0m\u001b[0m__traceback__\u001b[0m \u001b[0;32mis\u001b[0m \u001b[0;32mnot\u001b[0m \u001b[0mtb\u001b[0m\u001b[0;34m:\u001b[0m\u001b[0;34m\u001b[0m\u001b[0;34m\u001b[0m\u001b[0m\n\u001b[0;32m--> 668\u001b[0;31m             \u001b[0;32mraise\u001b[0m \u001b[0mvalue\u001b[0m\u001b[0;34m.\u001b[0m\u001b[0mwith_traceback\u001b[0m\u001b[0;34m(\u001b[0m\u001b[0mtb\u001b[0m\u001b[0;34m)\u001b[0m\u001b[0;34m\u001b[0m\u001b[0;34m\u001b[0m\u001b[0m\n\u001b[0m\u001b[1;32m    669\u001b[0m         \u001b[0;32mraise\u001b[0m \u001b[0mvalue\u001b[0m\u001b[0;34m\u001b[0m\u001b[0;34m\u001b[0m\u001b[0m\n\u001b[1;32m    670\u001b[0m \u001b[0;34m\u001b[0m\u001b[0m\n",
      "\u001b[0;31mTypingError\u001b[0m: Failed in nopython mode pipeline (step: convert make_function into JIT functions)\n\u001b[1mCannot capture the non-constant value associated with variable 'disDict' in a function that will escape.\n\u001b[1m\nFile \"utils/add_nne.py\", line 84:\u001b[0m\n\u001b[1mdef addNNE(met,x,oneHot,subIndexSet):\n    <source elided>\n\n\u001b[1m    nn = [min(item, key=lambda x: disDict[x]) for item in subIndexSet]\n\u001b[0m    \u001b[1m^\u001b[0m\u001b[0m\n\u001b[0m\n\nThis error may have been caused by the following argument(s):\n- argument 2: \u001b[1mcannot determine Numba type of <class 'sklearn.preprocessing._encoders.OneHotEncoder'>\u001b[0m\n\nThis error may have been caused by the following argument(s):\n- argument 2: \u001b[1mcannot determine Numba type of <class 'sklearn.preprocessing._encoders.OneHotEncoder'>\u001b[0m\n\nThis error may have been caused by the following argument(s):\n- argument 2: \u001b[1mcannot determine Numba type of <class 'sklearn.preprocessing._encoders.OneHotEncoder'>\u001b[0m\n\nThis error may have been caused by the following argument(s):\n- argument 2: \u001b[1mcannot determine Numba type of <class 'sklearn.preprocessing._encoders.OneHotEncoder'>\u001b[0m\n"
     ]
    }
   ],
   "source": [
    "root = create_trees_w_purity_check(n,psi,t,dataset)\n",
    "print(dendrogram_purity(root))"
   ]
  },
  {
   "cell_type": "code",
   "execution_count": null,
   "metadata": {},
   "outputs": [],
   "source": [
    "gv = Graphviz()\n",
    "tree = gv.graphviz_tree(root)\n",
    "src = Source(tree)\n",
    "src.render('treeResult\\\\'+'tree'+str(1)+'.gv', view=True,format='png')"
   ]
  },
  {
   "cell_type": "code",
   "execution_count": null,
   "metadata": {},
   "outputs": [],
   "source": []
  }
 ],
 "metadata": {
  "kernelspec": {
   "display_name": "Python 3",
   "language": "python",
   "name": "python3"
  },
  "language_info": {
   "codemirror_mode": {
    "name": "ipython",
    "version": 3
   },
   "file_extension": ".py",
   "mimetype": "text/x-python",
   "name": "python",
   "nbconvert_exporter": "python",
   "pygments_lexer": "ipython3",
   "version": "3.7.6-final"
  },
  "latex_envs": {
   "LaTeX_envs_menu_present": true,
   "autoclose": false,
   "autocomplete": true,
   "bibliofile": "biblio.bib",
   "cite_by": "apalike",
   "current_citInitial": 1,
   "eqLabelWithNumbers": true,
   "eqNumInitial": 1,
   "hotkeys": {
    "equation": "Ctrl-E",
    "itemize": "Ctrl-I"
   },
   "labels_anchors": false,
   "latex_user_defs": false,
   "report_style_numbering": false,
   "user_envs_cfg": false
  },
  "toc": {
   "base_numbering": 1,
   "nav_menu": {},
   "number_sections": true,
   "sideBar": true,
   "skip_h1_title": false,
   "title_cell": "Table of Contents",
   "title_sidebar": "Contents",
   "toc_cell": false,
   "toc_position": {},
   "toc_section_display": true,
   "toc_window_display": false
  },
  "varInspector": {
   "cols": {
    "lenName": 16,
    "lenType": 16,
    "lenVar": 40
   },
   "kernels_config": {
    "python": {
     "delete_cmd_postfix": "",
     "delete_cmd_prefix": "del ",
     "library": "var_list.py",
     "varRefreshCmd": "print(var_dic_list())"
    },
    "r": {
     "delete_cmd_postfix": ") ",
     "delete_cmd_prefix": "rm(",
     "library": "var_list.r",
     "varRefreshCmd": "cat(var_dic_list()) "
    }
   },
   "types_to_exclude": [
    "module",
    "function",
    "builtin_function_or_method",
    "instance",
    "_Feature"
   ],
   "window_display": false
  }
 },
 "nbformat": 4,
 "nbformat_minor": 2
}