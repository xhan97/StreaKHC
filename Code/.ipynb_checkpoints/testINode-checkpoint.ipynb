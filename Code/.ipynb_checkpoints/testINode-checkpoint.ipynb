{
 "cells": [
  {
   "cell_type": "code",
   "execution_count": 1,
   "metadata": {},
   "outputs": [],
   "source": [
    "from scipy.spatial.distance import cdist\n",
    "from models.INode import INode\n",
    "from utils.dendrogram_purity import dendrogram_purity,expected_dendrogram_purity\n",
    "from utils.deltasep_utils import create_dataset\n",
    "from utils.add_nne import addNNE,aNNE_similarity\n",
    "from utils.Graphviz import Graphviz\n"
   ]
  },
  {
   "cell_type": "code",
   "execution_count": 2,
   "metadata": {},
   "outputs": [],
   "source": [
    "import numpy as np\n",
    "from graphviz import Source"
   ]
  },
  {
   "cell_type": "code",
   "execution_count": 3,
   "metadata": {},
   "outputs": [],
   "source": [
    "def add_nne_data(dataset,n,psi,t):\n",
    "  \"\"\"Add ik value to dataset.\n",
    "  Args:\n",
    "    dataset - a list of points with which to build the tree.\n",
    "    n - the number of dataset to build aNNE metrix\n",
    "    psi - parameter of ik\n",
    "    t - paremeter of ik\n",
    "  Return:\n",
    "    dataset with ik value\n",
    "    \n",
    "  \"\"\"\n",
    "  met = [pt[0] for pt in dataset[:n]]\n",
    "  \n",
    "  x = cdist(met,met, 'euclidean') \n",
    "  oneHot,subIndexSet,aNNEMetrix = aNNE_similarity(x,psi,t)\n",
    "  for i, pt in enumerate(dataset[:n]):\n",
    "      pt.append(aNNEMetrix[i])\n",
    "      \n",
    "  return oneHot,subIndexSet,dataset\n",
    "  \n",
    "\n"
   ]
  },
  {
   "cell_type": "code",
   "execution_count": 4,
   "metadata": {},
   "outputs": [],
   "source": [
    "def create_trees_w_purity_check(n,psi,t,dataset):\n",
    "    \"\"\"Create trees over the same points.\n",
    "\n",
    "    Create n trees, online, over the same dataset. Return pointers to the\n",
    "    roots of all trees for evaluation.  The trees will be created via the insert\n",
    "    methods passed in.  After each insertion, verify that the dendrogram purity\n",
    "    is still 1.0 (perfect).\n",
    "\n",
    "    Args:\n",
    "        dataset - a list of points with which to build the tree.\n",
    "\n",
    "    Returns:\n",
    "        A list of pointers to the trees constructed via the insert methods\n",
    "        passed in.\n",
    "    \"\"\"\n",
    "    \n",
    "    met = [pt[0] for pt in dataset[:n]]\n",
    "    \n",
    "    oneHot,subIndexSet,data = add_nne_data(dataset,n,psi,t)\n",
    "    root = INode(exact_dist_thres=10)\n",
    "    \n",
    "    for i, pt in enumerate(data[:10]):\n",
    "        if len(pt)==3:\n",
    "          ikv = addNNE(met,pt[0],oneHot,subIndexSet)\n",
    "          pt.append(ikv)\n",
    "        root = root.insert(pt, collapsibles=None, L= float('inf'))\n",
    "        gv = Graphviz()\n",
    "        tree = gv.graphviz_tree(root)\n",
    "        src = Source(tree)\n",
    "        src.render('treeResult\\\\'+'tree'+str(i)+'.gv', view=True,format='png')\n",
    "    return root"
   ]
  },
  {
   "cell_type": "code",
   "execution_count": 5,
   "metadata": {},
   "outputs": [
    {
     "name": "stdout",
     "output_type": "stream",
     "text": [
      "TESTING DIMENSIONS == 5\n"
     ]
    }
   ],
   "source": [
    "dimensions = [5]\n",
    "size = 50\n",
    "num_clus = 3\n",
    "\n",
    "\n",
    "for dim in dimensions:\n",
    "    print(\"TESTING DIMENSIONS == %d\" % dim)\n",
    "    dataset = create_dataset(dim, size, num_clusters=num_clus)                                 "
   ]
  },
  {
   "cell_type": "code",
   "execution_count": 6,
   "metadata": {},
   "outputs": [],
   "source": [
    "from copy import copy, deepcopy"
   ]
  },
  {
   "cell_type": "code",
   "execution_count": 7,
   "metadata": {},
   "outputs": [
    {
     "data": {
      "text/plain": [
       "150"
      ]
     },
     "execution_count": 7,
     "metadata": {},
     "output_type": "execute_result"
    }
   ],
   "source": [
    "len(dataset)"
   ]
  },
  {
   "cell_type": "code",
   "execution_count": 5,
   "metadata": {},
   "outputs": [],
   "source": [
    "def load_data(filename):\n",
    "    with open(filename, 'r') as f:\n",
    "        for line in f:\n",
    "            splits = line.strip().split('\\t')\n",
    "            pid, l, vec = splits[0], splits[1], np.array([float(x)\n",
    "                                                          for x in splits[2:]])\n",
    "            yield ([vec, l, pid])"
   ]
  },
  {
   "cell_type": "code",
   "execution_count": 6,
   "metadata": {},
   "outputs": [
    {
     "ename": "FileNotFoundError",
     "evalue": "[Errno 2] No such file or directory: 'data/spambase.tsv'",
     "output_type": "error",
     "traceback": [
      "\u001b[1;31m---------------------------------------------------------------------------\u001b[0m",
      "\u001b[1;31mFileNotFoundError\u001b[0m                         Traceback (most recent call last)",
      "\u001b[1;32m<ipython-input-6-3fff5053bb74>\u001b[0m in \u001b[0;36m<module>\u001b[1;34m()\u001b[0m\n\u001b[1;32m----> 1\u001b[1;33m \u001b[0mdataset\u001b[0m \u001b[1;33m=\u001b[0m \u001b[0mlist\u001b[0m\u001b[1;33m(\u001b[0m\u001b[0mload_data\u001b[0m\u001b[1;33m(\u001b[0m\u001b[1;34m\"data/spambase.tsv\"\u001b[0m\u001b[1;33m)\u001b[0m\u001b[1;33m)\u001b[0m\u001b[1;33m\u001b[0m\u001b[0m\n\u001b[0m",
      "\u001b[1;32m<ipython-input-5-9ac1f33ea3bb>\u001b[0m in \u001b[0;36mload_data\u001b[1;34m(filename)\u001b[0m\n\u001b[0;32m      1\u001b[0m \u001b[1;32mdef\u001b[0m \u001b[0mload_data\u001b[0m\u001b[1;33m(\u001b[0m\u001b[0mfilename\u001b[0m\u001b[1;33m)\u001b[0m\u001b[1;33m:\u001b[0m\u001b[1;33m\u001b[0m\u001b[0m\n\u001b[1;32m----> 2\u001b[1;33m     \u001b[1;32mwith\u001b[0m \u001b[0mopen\u001b[0m\u001b[1;33m(\u001b[0m\u001b[0mfilename\u001b[0m\u001b[1;33m,\u001b[0m \u001b[1;34m'r'\u001b[0m\u001b[1;33m)\u001b[0m \u001b[1;32mas\u001b[0m \u001b[0mf\u001b[0m\u001b[1;33m:\u001b[0m\u001b[1;33m\u001b[0m\u001b[0m\n\u001b[0m\u001b[0;32m      3\u001b[0m         \u001b[1;32mfor\u001b[0m \u001b[0mline\u001b[0m \u001b[1;32min\u001b[0m \u001b[0mf\u001b[0m\u001b[1;33m:\u001b[0m\u001b[1;33m\u001b[0m\u001b[0m\n\u001b[0;32m      4\u001b[0m             \u001b[0msplits\u001b[0m \u001b[1;33m=\u001b[0m \u001b[0mline\u001b[0m\u001b[1;33m.\u001b[0m\u001b[0mstrip\u001b[0m\u001b[1;33m(\u001b[0m\u001b[1;33m)\u001b[0m\u001b[1;33m.\u001b[0m\u001b[0msplit\u001b[0m\u001b[1;33m(\u001b[0m\u001b[1;34m'\\t'\u001b[0m\u001b[1;33m)\u001b[0m\u001b[1;33m\u001b[0m\u001b[0m\n\u001b[0;32m      5\u001b[0m             pid, l, vec = splits[0], splits[1], np.array([float(x)\n",
      "\u001b[1;31mFileNotFoundError\u001b[0m: [Errno 2] No such file or directory: 'data/spambase.tsv'"
     ]
    }
   ],
   "source": [
    "dataset = list(load_data(\"data/spambase.tsv\"))"
   ]
  },
  {
   "cell_type": "code",
   "execution_count": 8,
   "metadata": {},
   "outputs": [],
   "source": [
    "n=30\n",
    "psi=20\n",
    "t = 200"
   ]
  },
  {
   "cell_type": "code",
   "execution_count": 9,
   "metadata": {},
   "outputs": [],
   "source": [
    "np.random.shuffle(dataset)\n",
    "data = deepcopy(dataset)\n",
    "root = create_trees_w_purity_check(n,psi,t,data)"
   ]
  },
  {
   "cell_type": "code",
   "execution_count": 32,
   "metadata": {},
   "outputs": [
    {
     "data": {
      "text/plain": [
       "1074026811208"
      ]
     },
     "execution_count": 32,
     "metadata": {},
     "output_type": "execute_result"
    }
   ],
   "source": [
    "id(dataset)"
   ]
  },
  {
   "cell_type": "code",
   "execution_count": 31,
   "metadata": {},
   "outputs": [
    {
     "data": {
      "text/plain": [
       "1074027559624"
      ]
     },
     "execution_count": 31,
     "metadata": {},
     "output_type": "execute_result"
    }
   ],
   "source": [
    "id(data)"
   ]
  },
  {
   "cell_type": "code",
   "execution_count": 11,
   "metadata": {},
   "outputs": [
    {
     "data": {
      "text/plain": [
       "150"
      ]
     },
     "execution_count": 11,
     "metadata": {},
     "output_type": "execute_result"
    }
   ],
   "source": [
    "len(dataset)"
   ]
  },
  {
   "cell_type": "code",
   "execution_count": 8,
   "metadata": {},
   "outputs": [],
   "source": [
    "import time, datetime"
   ]
  },
  {
   "cell_type": "code",
   "execution_count": 60,
   "metadata": {},
   "outputs": [],
   "source": [
    "#sts = time.time()\n",
    "root = create_trees_w_purity_check(n,psi,t,dataset)\n",
    "#ets = time.time() \n",
    "#print(ets-sts)"
   ]
  },
  {
   "cell_type": "code",
   "execution_count": 11,
   "metadata": {},
   "outputs": [
    {
     "name": "stdout",
     "output_type": "stream",
     "text": [
      "0.3533793664035424\n"
     ]
    }
   ],
   "source": [
    "print(expected_dendrogram_purity(root))"
   ]
  },
  {
   "cell_type": "code",
   "execution_count": null,
   "metadata": {},
   "outputs": [],
   "source": [
    "dataset = list(load_data(\"data/spambase.tsv\"))\n",
    "\n",
    "gv = Graphviz()\n",
    "tree = gv.graphviz_tree(root)\n",
    "src = Source(tree)\n",
    "src.render('treeResult\\\\'+'tree'+str(1)+'.gv', view=True,format='png')"
   ]
  },
  {
   "cell_type": "code",
   "execution_count": null,
   "metadata": {},
   "outputs": [],
   "source": []
  }
 ],
 "metadata": {
  "kernelspec": {
   "display_name": "Python [conda env:Anaconda3]",
   "language": "python",
   "name": "conda-env-Anaconda3-py"
  },
  "language_info": {
   "codemirror_mode": {
    "name": "ipython",
    "version": 3
   },
   "file_extension": ".py",
   "mimetype": "text/x-python",
   "name": "python",
   "nbconvert_exporter": "python",
   "pygments_lexer": "ipython3",
   "version": "3.6.4"
  },
  "latex_envs": {
   "LaTeX_envs_menu_present": true,
   "autoclose": false,
   "autocomplete": true,
   "bibliofile": "biblio.bib",
   "cite_by": "apalike",
   "current_citInitial": 1,
   "eqLabelWithNumbers": true,
   "eqNumInitial": 1,
   "hotkeys": {
    "equation": "Ctrl-E",
    "itemize": "Ctrl-I"
   },
   "labels_anchors": false,
   "latex_user_defs": false,
   "report_style_numbering": false,
   "user_envs_cfg": false
  },
  "toc": {
   "base_numbering": 1,
   "nav_menu": {},
   "number_sections": true,
   "sideBar": true,
   "skip_h1_title": false,
   "title_cell": "Table of Contents",
   "title_sidebar": "Contents",
   "toc_cell": false,
   "toc_position": {},
   "toc_section_display": true,
   "toc_window_display": false
  },
  "varInspector": {
   "cols": {
    "lenName": 16,
    "lenType": 16,
    "lenVar": 40
   },
   "kernels_config": {
    "python": {
     "delete_cmd_postfix": "",
     "delete_cmd_prefix": "del ",
     "library": "var_list.py",
     "varRefreshCmd": "print(var_dic_list())"
    },
    "r": {
     "delete_cmd_postfix": ") ",
     "delete_cmd_prefix": "rm(",
     "library": "var_list.r",
     "varRefreshCmd": "cat(var_dic_list()) "
    }
   },
   "types_to_exclude": [
    "module",
    "function",
    "builtin_function_or_method",
    "instance",
    "_Feature"
   ],
   "window_display": false
  }
 },
 "nbformat": 4,
 "nbformat_minor": 2
}
