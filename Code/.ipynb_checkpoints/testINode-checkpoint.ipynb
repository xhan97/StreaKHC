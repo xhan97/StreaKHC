{
 "cells": [
  {
   "cell_type": "code",
   "execution_count": 1,
   "metadata": {},
   "outputs": [],
   "source": [
    "from scipy.spatial.distance import cdist\n",
    "from models.INode import INode\n",
    "from utils.dendrogram_purity import dendrogram_purity,expected_dendrogram_purity\n",
    "from utils.deltasep_utils import create_dataset\n",
    "from utils.add_nne import addNNE,aNNE_similarity\n",
    "from utils.Graphviz import Graphviz\n"
   ]
  },
  {
   "cell_type": "code",
   "execution_count": 2,
   "metadata": {},
   "outputs": [],
   "source": [
    "import numpy as np\n",
    "from graphviz import Source"
   ]
  },
  {
   "cell_type": "code",
   "execution_count": 3,
   "metadata": {},
   "outputs": [],
   "source": [
    "def add_nne_data(dataset,n,psi,t):\n",
    "  \"\"\"Add ik value to dataset.\n",
    "  Args:\n",
    "    dataset - a list of points with which to build the tree.\n",
    "    n - the number of dataset to build aNNE metrix\n",
    "    psi - parameter of ik\n",
    "    t - paremeter of ik\n",
    "  Return:\n",
    "    dataset with ik value\n",
    "    \n",
    "  \"\"\"\n",
    "  met = [pt[0] for pt in dataset[:n]]\n",
    "  \n",
    "  x = cdist(met,met, 'euclidean') \n",
    "  oneHot,subIndexSet,aNNEMetrix = aNNE_similarity(x,psi,t)\n",
    "  for i, pt in enumerate(dataset[:n]):\n",
    "      pt.append(aNNEMetrix[i])\n",
    "      \n",
    "  return oneHot,subIndexSet,dataset\n",
    "  \n",
    "\n"
   ]
  },
  {
   "cell_type": "code",
   "execution_count": 18,
   "metadata": {},
   "outputs": [],
   "source": [
    "def create_trees_w_purity_check(n,psi,t,dataset):\n",
    "    \"\"\"Create trees over the same points.\n",
    "\n",
    "    Create n trees, online, over the same dataset. Return pointers to the\n",
    "    roots of all trees for evaluation.  The trees will be created via the insert\n",
    "    methods passed in.  After each insertion, verify that the dendrogram purity\n",
    "    is still 1.0 (perfect).\n",
    "\n",
    "    Args:\n",
    "        dataset - a list of points with which to build the tree.\n",
    "\n",
    "    Returns:\n",
    "        A list of pointers to the trees constructed via the insert methods\n",
    "        passed in.\n",
    "    \"\"\"\n",
    "    \n",
    "    met = [pt[0] for pt in dataset[:n]]\n",
    "    \n",
    "    oneHot,subIndexSet,data = add_nne_data(dataset,n,psi,t)\n",
    "    root = INode(exact_dist_thres=10)\n",
    "    \n",
    "    for i, pt in enumerate(data[:100]):\n",
    "        if len(pt)==3:\n",
    "          ikv = addNNE(met,pt[0],oneHot,subIndexSet)\n",
    "          pt.append(ikv)\n",
    "        root = root.insert(pt, collapsibles=None, L= float('inf'))\n",
    "        #gv = Graphviz()\n",
    "        #tree = gv.graphviz_tree(root)\n",
    "        #src = Source(tree)\n",
    "        #src.render('treeResult\\\\'+'tree'+str(i)+'.gv', view=True,format='png')\n",
    "    return root"
   ]
  },
  {
   "cell_type": "code",
   "execution_count": 5,
   "metadata": {},
   "outputs": [
    {
     "name": "stdout",
     "output_type": "stream",
     "text": [
      "TESTING DIMENSIONS == 5\n"
     ]
    }
   ],
   "source": [
    "dimensions = [5]\n",
    "size = 50\n",
    "num_clus = 3\n",
    "\n",
    "\n",
    "for dim in dimensions:\n",
    "    print(\"TESTING DIMENSIONS == %d\" % dim)\n",
    "    dataset = create_dataset(dim, size, num_clusters=num_clus)                                 "
   ]
  },
  {
   "cell_type": "code",
   "execution_count": null,
   "metadata": {},
   "outputs": [],
   "source": []
  },
  {
   "cell_type": "code",
   "execution_count": 13,
   "metadata": {},
   "outputs": [
    {
     "data": {
      "text/plain": [
       "4601"
      ]
     },
     "execution_count": 13,
     "metadata": {},
     "output_type": "execute_result"
    }
   ],
   "source": [
    "len(dataset)"
   ]
  },
  {
   "cell_type": "code",
   "execution_count": 6,
   "metadata": {},
   "outputs": [],
   "source": [
    "def load_data(filename):\n",
    "    with open(filename, 'r') as f:\n",
    "        for line in f:\n",
    "            splits = line.strip().split('\\t')\n",
    "            pid, l, vec = splits[0], splits[1], np.array([float(x)\n",
    "                                                          for x in splits[2:]])\n",
    "            yield ([vec, l, pid])"
   ]
  },
  {
   "cell_type": "code",
   "execution_count": 12,
   "metadata": {},
   "outputs": [],
   "source": [
    "dataset = list(load_data(\"data/spambase.tsv\"))"
   ]
  },
  {
   "cell_type": "code",
   "execution_count": 14,
   "metadata": {},
   "outputs": [],
   "source": [
    "n=50\n",
    "psi=10\n",
    "t = 200"
   ]
  },
  {
   "cell_type": "code",
   "execution_count": 15,
   "metadata": {},
   "outputs": [],
   "source": [
    "np.random.shuffle(dataset)"
   ]
  },
  {
   "cell_type": "code",
   "execution_count": 16,
   "metadata": {},
   "outputs": [],
   "source": [
    "root = create_trees_w_purity_check(n,psi,t,dataset)"
   ]
  },
  {
   "cell_type": "code",
   "execution_count": null,
   "metadata": {},
   "outputs": [],
   "source": []
  },
  {
   "cell_type": "code",
   "execution_count": 11,
   "metadata": {},
   "outputs": [
    {
     "data": {
      "text/plain": [
       "150"
      ]
     },
     "execution_count": 11,
     "metadata": {},
     "output_type": "execute_result"
    }
   ],
   "source": [
    "len(dataset)"
   ]
  },
  {
   "cell_type": "code",
   "execution_count": 8,
   "metadata": {},
   "outputs": [],
   "source": [
    "import time, datetime"
   ]
  },
  {
   "cell_type": "code",
   "execution_count": 9,
   "metadata": {},
   "outputs": [],
   "source": [
    "#sts = time.time()\n",
    "root = create_trees_w_purity_check(n,psi,t,dataset)\n",
    "#ets = time.time() \n",
    "#print(ets-sts)"
   ]
  },
  {
   "cell_type": "code",
   "execution_count": 17,
   "metadata": {},
   "outputs": [
    {
     "name": "stdout",
     "output_type": "stream",
     "text": [
      "0.5854285714285716\n"
     ]
    }
   ],
   "source": [
    "print(expected_dendrogram_purity(root))"
   ]
  },
  {
   "cell_type": "code",
   "execution_count": null,
   "metadata": {},
   "outputs": [],
   "source": [
    "\n",
    "\n",
    "dataset = list(load_data(\"data/spambase.tsv\"))\n",
    "\n",
    "gv = Graphviz()\n",
    "tree = gv.graphviz_tree(root)\n",
    "src = Source(tree)\n",
    "src.render('treeResult\\\\'+'tree'+str(1)+'.gv', view=True,format='png')"
   ]
  },
  {
   "cell_type": "code",
   "execution_count": null,
   "metadata": {},
   "outputs": [],
   "source": []
  }
 ],
 "metadata": {
  "kernelspec": {
   "display_name": "Python [default]",
   "language": "python",
   "name": "python3"
  },
  "language_info": {
   "codemirror_mode": {
    "name": "ipython",
    "version": 3
   },
   "file_extension": ".py",
   "mimetype": "text/x-python",
   "name": "python",
   "nbconvert_exporter": "python",
   "pygments_lexer": "ipython3",
   "version": "3.6.4"
  },
  "latex_envs": {
   "LaTeX_envs_menu_present": true,
   "autoclose": false,
   "autocomplete": true,
   "bibliofile": "biblio.bib",
   "cite_by": "apalike",
   "current_citInitial": 1,
   "eqLabelWithNumbers": true,
   "eqNumInitial": 1,
   "hotkeys": {
    "equation": "Ctrl-E",
    "itemize": "Ctrl-I"
   },
   "labels_anchors": false,
   "latex_user_defs": false,
   "report_style_numbering": false,
   "user_envs_cfg": false
  },
  "toc": {
   "base_numbering": 1,
   "nav_menu": {},
   "number_sections": true,
   "sideBar": true,
   "skip_h1_title": false,
   "title_cell": "Table of Contents",
   "title_sidebar": "Contents",
   "toc_cell": false,
   "toc_position": {},
   "toc_section_display": true,
   "toc_window_display": false
  },
  "varInspector": {
   "cols": {
    "lenName": 16,
    "lenType": 16,
    "lenVar": 40
   },
   "kernels_config": {
    "python": {
     "delete_cmd_postfix": "",
     "delete_cmd_prefix": "del ",
     "library": "var_list.py",
     "varRefreshCmd": "print(var_dic_list())"
    },
    "r": {
     "delete_cmd_postfix": ") ",
     "delete_cmd_prefix": "rm(",
     "library": "var_list.r",
     "varRefreshCmd": "cat(var_dic_list()) "
    }
   },
   "types_to_exclude": [
    "module",
    "function",
    "builtin_function_or_method",
    "instance",
    "_Feature"
   ],
   "window_display": false
  }
 },
 "nbformat": 4,
 "nbformat_minor": 2
}
